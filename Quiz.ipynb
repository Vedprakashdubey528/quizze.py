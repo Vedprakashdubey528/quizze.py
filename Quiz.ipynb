{
 "cells": [
  {
   "cell_type": "code",
   "execution_count": 2,
   "id": "7c2f0e8c",
   "metadata": {},
   "outputs": [
    {
     "name": "stdout",
     "output_type": "stream",
     "text": [
      "Welcome to the quiz organized by Vedprakash dubey\n",
      "Do you wants to play ? yes\n",
      "Okay ! Let's play :) \n",
      "only engaged candidates will know-tell the passcode1025\n",
      "Again ready for the game\n",
      "What does CPU stands for ? c\n",
      "Incorrect\n",
      "Where does RAM stands for ? c\n",
      "Incorrect\n",
      "1024 kilobytes is equals to ? c\n",
      "Incorrect\n",
      "Brain of Computer is ? c\n",
      "Incorrect\n",
      "Which animal has hump on his back ? c\n",
      "Incorrect\n",
      "You got 0 questions correct \n",
      "You got 0.0%.\n"
     ]
    }
   ],
   "source": [
    "import sys\n",
    "\n",
    "print(\"Welcome to the quiz organized by Vedprakash dubey\")\n",
    "playing = input(\"Do you wants to play ? \")\n",
    "if playing.lower() != \"yes\":\n",
    "    sys.exit(\"u r not allowed\")\n",
    "\n",
    "else:\n",
    "    print(\"Okay ! Let's play :) \")\n",
    "    score = 0\n",
    "passcode = input(\"only engaged candidates will know-tell the passcode\")\n",
    "code = 1025\n",
    "if code:\n",
    "    print(\"Again ready for the game\")\n",
    "answer = input(\"What does CPU stands for ? \")\n",
    "if answer.lower() == \"central processing unit\":\n",
    "    print('Correct :) ')\n",
    "    score += 1\n",
    "else:\n",
    "    print(\"Incorrect\")\n",
    "answer = input(\"Where does RAM stands for ? \")\n",
    "if answer.lower() == \"random acess memory\":\n",
    "    print('Correct :) ')\n",
    "    score += 1\n",
    "else:\n",
    "    print(\"Incorrect\")\n",
    "answer = input(\"1024 kilobytes is equals to ? \")\n",
    "if answer.lower() == \"1 mb\":\n",
    "    print('Correct :) ')\n",
    "    score += 1\n",
    "else:\n",
    "    print(\"Incorrect\")\n",
    "answer = input(\"Brain of Computer is ? \")\n",
    "if answer.lower() == \"cpu\":\n",
    "    print('Correct :) ')\n",
    "    score += 1\n",
    "else:\n",
    "    print(\"Incorrect\")\n",
    "answer = input(\"Which animal has hump on his back ? \")\n",
    "if answer.lower() == \"camel\":\n",
    "    print('Correct :) ')\n",
    "    score += 1\n",
    "else:\n",
    "    print(\"Incorrect\")\n",
    "    \n",
    "    \n",
    "print(\"You got \" + str(score) + \" questions correct \")\n",
    "print(\"You got \" + str((score /5) * 100) + \"%.\")\n"
   ]
  },
  {
   "cell_type": "code",
   "execution_count": null,
   "id": "23768b8b",
   "metadata": {},
   "outputs": [],
   "source": []
  }
 ],
 "metadata": {
  "kernelspec": {
   "display_name": "Python 3",
   "language": "python",
   "name": "python3"
  },
  "language_info": {
   "codemirror_mode": {
    "name": "ipython",
    "version": 3
   },
   "file_extension": ".py",
   "mimetype": "text/x-python",
   "name": "python",
   "nbconvert_exporter": "python",
   "pygments_lexer": "ipython3",
   "version": "3.8.8"
  }
 },
 "nbformat": 4,
 "nbformat_minor": 5
}
